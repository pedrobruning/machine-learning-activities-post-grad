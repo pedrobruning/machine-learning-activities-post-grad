{
 "cells": [
  {
   "cell_type": "markdown",
   "id": "1a3cbe79",
   "metadata": {},
   "source": [
    "## **AUC for SVM with Specific Hyperparameters**\n",
    "   - Train an SVM classifier with C=0.1 and gamma=0.1.\n",
    "   - Compute the Area Under the Curve (AUC) metric using 10-fold cross-validation."
   ]
  },
  {
   "cell_type": "code",
   "execution_count": 1,
   "id": "fdbe0077",
   "metadata": {},
   "outputs": [],
   "source": [
    "# Imports\n",
    "import numpy as np\n",
    "import pandas as pd\n",
    "from sklearn.model_selection import train_test_split\n",
    "from sklearn.metrics import classification_report\n",
    "\n",
    "# Load dataset\n",
    "df = pd.read_csv('spambase.csv')\n",
    "\n",
    "# Separate features and target\n",
    "X = df.drop('class', axis=1)\n",
    "y = df['class']\n",
    "\n",
    "# Split dataset into training and testing sets"
   ]
  },
  {
   "cell_type": "code",
   "execution_count": 2,
   "id": "9bf173ee",
   "metadata": {},
   "outputs": [],
   "source": [
    "from sklearn.model_selection import train_test_split\n",
    "X_train, X_test, y_train, y_test = train_test_split(X, y, test_size=0.4, random_state=0)"
   ]
  },
  {
   "cell_type": "markdown",
   "id": "20278a07",
   "metadata": {},
   "source": [
    "## SVM"
   ]
  },
  {
   "cell_type": "code",
   "execution_count": 3,
   "id": "a1bafbe6",
   "metadata": {},
   "outputs": [
    {
     "name": "stdout",
     "output_type": "stream",
     "text": [
      "AUC: 0.8668347525404346\n"
     ]
    }
   ],
   "source": [
    "from sklearn.model_selection import cross_val_score\n",
    "from sklearn.svm import SVC\n",
    "\n",
    "cls = SVC(random_state=0, probability=True, C=0.1, gamma=0.1)\n",
    "scores = cross_val_score(cls, X_train, y_train, cv=10, scoring='roc_auc')\n",
    "print(f\"AUC: {scores.mean()}\")"
   ]
  },
  {
   "cell_type": "markdown",
   "id": "f8cc9a51",
   "metadata": {},
   "source": [
    "## Results"
   ]
  },
  {
   "cell_type": "markdown",
   "id": "50de463b",
   "metadata": {},
   "source": [
    "After comparing the results with the SVM without the hyperparameters, we noticed an increase in 7pp in the score, which is a big increase."
   ]
  }
 ],
 "metadata": {
  "kernelspec": {
   "display_name": "ml_env",
   "language": "python",
   "name": "python3"
  },
  "language_info": {
   "codemirror_mode": {
    "name": "ipython",
    "version": 3
   },
   "file_extension": ".py",
   "mimetype": "text/x-python",
   "name": "python",
   "nbconvert_exporter": "python",
   "pygments_lexer": "ipython3",
   "version": "3.13.3"
  }
 },
 "nbformat": 4,
 "nbformat_minor": 5
}
