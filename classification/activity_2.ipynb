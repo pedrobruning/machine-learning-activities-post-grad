{
 "cells": [
  {
   "cell_type": "markdown",
   "id": "1a3cbe79",
   "metadata": {},
   "source": [
    "## **Analyze k-NN with Different k Values**\n",
    "   - Run k-NN with k values of 3, 5, 7, and 9.\n",
    "   - For each k, analyze the precision and recall metrics to understand the trade-offs."
   ]
  },
  {
   "cell_type": "code",
   "execution_count": 2,
   "id": "fdbe0077",
   "metadata": {},
   "outputs": [],
   "source": [
    "# Imports\n",
    "import numpy as np\n",
    "import pandas as pd\n",
    "from sklearn.model_selection import train_test_split\n",
    "from sklearn.metrics import classification_report\n",
    "\n",
    "# Load dataset\n",
    "df = pd.read_csv('spambase.csv')\n",
    "\n",
    "# Separate features and target\n",
    "X = df.drop('class', axis=1)\n",
    "y = df['class']\n",
    "\n",
    "# Split dataset into training and testing sets"
   ]
  },
  {
   "cell_type": "code",
   "execution_count": 4,
   "id": "9bf173ee",
   "metadata": {},
   "outputs": [],
   "source": [
    "from sklearn.model_selection import train_test_split\n",
    "X_train, X_test, y_train, y_test = train_test_split(X, y, test_size=0.3, random_state=0)"
   ]
  },
  {
   "cell_type": "markdown",
   "id": "20278a07",
   "metadata": {},
   "source": [
    "## k-NN"
   ]
  },
  {
   "cell_type": "code",
   "execution_count": 10,
   "id": "a1bafbe6",
   "metadata": {},
   "outputs": [
    {
     "name": "stdout",
     "output_type": "stream",
     "text": [
      "===================3===================\n",
      "              precision    recall  f1-score   support\n",
      "\n",
      "           0       0.81      0.85      0.83       822\n",
      "           1       0.76      0.72      0.74       559\n",
      "\n",
      "    accuracy                           0.80      1381\n",
      "   macro avg       0.79      0.78      0.79      1381\n",
      "weighted avg       0.79      0.80      0.79      1381\n",
      "\n",
      "===================5===================\n",
      "              precision    recall  f1-score   support\n",
      "\n",
      "           0       0.82      0.85      0.84       822\n",
      "           1       0.77      0.72      0.74       559\n",
      "\n",
      "    accuracy                           0.80      1381\n",
      "   macro avg       0.79      0.79      0.79      1381\n",
      "weighted avg       0.80      0.80      0.80      1381\n",
      "\n",
      "===================7===================\n",
      "              precision    recall  f1-score   support\n",
      "\n",
      "           0       0.81      0.86      0.83       822\n",
      "           1       0.77      0.71      0.74       559\n",
      "\n",
      "    accuracy                           0.80      1381\n",
      "   macro avg       0.79      0.78      0.79      1381\n",
      "weighted avg       0.80      0.80      0.80      1381\n",
      "\n",
      "===================9===================\n",
      "              precision    recall  f1-score   support\n",
      "\n",
      "           0       0.80      0.84      0.82       822\n",
      "           1       0.75      0.69      0.72       559\n",
      "\n",
      "    accuracy                           0.78      1381\n",
      "   macro avg       0.77      0.77      0.77      1381\n",
      "weighted avg       0.78      0.78      0.78      1381\n",
      "\n"
     ]
    }
   ],
   "source": [
    "from sklearn.neighbors import KNeighborsClassifier\n",
    "\n",
    "neighbors = [3, 5, 7, 9]\n",
    "\n",
    "for n in neighbors:\n",
    "  cls = KNeighborsClassifier(n_neighbors=n)\n",
    "  cls.fit(X_train, y_train)\n",
    "  pred = cls.predict(X_test)\n",
    "  print(f\"==================={n}===================\")\n",
    "  print(f\"{classification_report(y_test, pred)}\")"
   ]
  },
  {
   "cell_type": "markdown",
   "id": "363bf7c1",
   "metadata": {},
   "source": [
    "## Cross-Validation"
   ]
  },
  {
   "cell_type": "code",
   "execution_count": 12,
   "id": "8642a7a7",
   "metadata": {},
   "outputs": [
    {
     "name": "stdout",
     "output_type": "stream",
     "text": [
      "k=3: 0.7877645358781136\n",
      "k=5: 0.7769750133256723\n",
      "k=7: 0.7694562999396758\n",
      "k=9: 0.7690647214134996\n"
     ]
    }
   ],
   "source": [
    "from sklearn.model_selection import cross_val_score\n",
    "\n",
    "knn = KNeighborsClassifier()\n",
    "\n",
    "for n in [3, 5, 7, 9]:\n",
    "  knn = KNeighborsClassifier(n_neighbors=n)\n",
    "  scores = cross_val_score(knn, X_train, y_train, cv=10, scoring='f1_macro')\n",
    "  print(f\"k={n}: {scores.mean()}\")\n"
   ]
  },
  {
   "cell_type": "markdown",
   "id": "f8cc9a51",
   "metadata": {},
   "source": [
    "## Results"
   ]
  },
  {
   "cell_type": "markdown",
   "id": "50de463b",
   "metadata": {},
   "source": [
    "After analyzing all 4 different n values, no substantial change was noted (difference of 3 pp). But we can notice that by the last n value (9) the recall and precision were the worst, what can mean that are more different classes inside a greater range."
   ]
  },
  {
   "cell_type": "markdown",
   "id": "a9f8fd67",
   "metadata": {},
   "source": []
  }
 ],
 "metadata": {
  "kernelspec": {
   "display_name": "ml_env",
   "language": "python",
   "name": "python3"
  },
  "language_info": {
   "codemirror_mode": {
    "name": "ipython",
    "version": 3
   },
   "file_extension": ".py",
   "mimetype": "text/x-python",
   "name": "python",
   "nbconvert_exporter": "python",
   "pygments_lexer": "ipython3",
   "version": "3.13.3"
  }
 },
 "nbformat": 4,
 "nbformat_minor": 5
}
