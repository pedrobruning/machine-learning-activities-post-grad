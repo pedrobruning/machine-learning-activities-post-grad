{
 "cells": [
  {
   "cell_type": "markdown",
   "id": "1a3cbe79",
   "metadata": {},
   "source": [
    "## **Decision Tree Accuracy with Limited Depth**\n",
    "   - Train a Decision Tree classifier with a maximum depth of 5.\n",
    "   - Calculate and report the accuracy using 10-fold cross-validation."
   ]
  },
  {
   "cell_type": "code",
   "execution_count": 1,
   "id": "fdbe0077",
   "metadata": {},
   "outputs": [],
   "source": [
    "# Imports\n",
    "import numpy as np\n",
    "import pandas as pd\n",
    "from sklearn.model_selection import train_test_split\n",
    "from sklearn.metrics import classification_report\n",
    "\n",
    "# Load dataset\n",
    "df = pd.read_csv('spambase.csv')\n",
    "\n",
    "# Separate features and target\n",
    "X = df.drop('class', axis=1)\n",
    "y = df['class']\n",
    "\n",
    "# Split dataset into training and testing sets"
   ]
  },
  {
   "cell_type": "code",
   "execution_count": 4,
   "id": "9bf173ee",
   "metadata": {},
   "outputs": [],
   "source": [
    "from sklearn.model_selection import train_test_split\n",
    "X_train, X_test, y_train, y_test = train_test_split(X, y, test_size=0.4, random_state=0)"
   ]
  },
  {
   "cell_type": "markdown",
   "id": "20278a07",
   "metadata": {},
   "source": [
    "## Decision Tree"
   ]
  },
  {
   "cell_type": "code",
   "execution_count": 5,
   "id": "a1bafbe6",
   "metadata": {},
   "outputs": [
    {
     "name": "stdout",
     "output_type": "stream",
     "text": [
      "              precision    recall  f1-score   support\n",
      "\n",
      "           0       0.89      0.94      0.91      1097\n",
      "           1       0.90      0.83      0.86       744\n",
      "\n",
      "    accuracy                           0.89      1841\n",
      "   macro avg       0.90      0.88      0.89      1841\n",
      "weighted avg       0.89      0.89      0.89      1841\n",
      "\n"
     ]
    }
   ],
   "source": [
    "from sklearn.tree import DecisionTreeClassifier\n",
    "\n",
    "cls = DecisionTreeClassifier(random_state=0, max_depth=5)\n",
    "cls.fit(X_train, y_train)\n",
    "\n",
    "pred = cls.predict(X_test)\n",
    "\n",
    "print(classification_report(y_test, pred))"
   ]
  },
  {
   "cell_type": "code",
   "execution_count": 6,
   "id": "c20d9f66",
   "metadata": {},
   "outputs": [
    {
     "name": "stdout",
     "output_type": "stream",
     "text": [
      "0.9039900091144318\n"
     ]
    }
   ],
   "source": [
    "from sklearn.model_selection import cross_val_score\n",
    "\n",
    "cls = DecisionTreeClassifier(random_state=0, max_depth=5)\n",
    "scores = cross_val_score(cls, X_train, y_train, cv=10, scoring='f1_macro')\n",
    "print(f\"{scores.mean()}\")\n"
   ]
  },
  {
   "cell_type": "markdown",
   "id": "f8cc9a51",
   "metadata": {},
   "source": [
    "## Results"
   ]
  },
  {
   "cell_type": "markdown",
   "id": "50de463b",
   "metadata": {},
   "source": [
    "After comparing the results with the Decision Tree without max depth, we noticed that this limited one has lower F1 Score. The difference between the two is ˜2pp"
   ]
  },
  {
   "cell_type": "markdown",
   "id": "a9f8fd67",
   "metadata": {},
   "source": []
  }
 ],
 "metadata": {
  "kernelspec": {
   "display_name": "ml_env",
   "language": "python",
   "name": "python3"
  },
  "language_info": {
   "codemirror_mode": {
    "name": "ipython",
    "version": 3
   },
   "file_extension": ".py",
   "mimetype": "text/x-python",
   "name": "python",
   "nbconvert_exporter": "python",
   "pygments_lexer": "ipython3",
   "version": "3.13.3"
  }
 },
 "nbformat": 4,
 "nbformat_minor": 5
}
