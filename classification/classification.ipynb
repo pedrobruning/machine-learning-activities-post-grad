{
 "cells": [
  {
   "cell_type": "markdown",
   "id": "64e9e2e3",
   "metadata": {},
   "source": [
    "# Classification Study: Practical Activities\n",
    "\n",
    "This notebook is part of my portfolio and aims to demonstrate my understanding of classification algorithms using the spambase.csv dataset. The following activities are designed to explore and compare different classification techniques and evaluation metrics.\n",
    "\n",
    "For activities 1 to 4, I will use 10-fold cross-validation to ensure robust evaluation. For activity 5, the entire dataset will be used for training.\n",
    "\n",
    "**Step-by-step Guide:**\n",
    "\n",
    "1. **Compare F1 Scores Across Algorithms**\n",
    "   - Evaluate and compare the F1 scores of the following classifiers: k-Nearest Neighbors (k-NN), Logistic Regression, Decision Tree, and Support Vector Machine (SVM).\n",
    "   - Use 10-fold cross-validation to obtain reliable results.\n",
    "\n",
    "2. **Analyze k-NN with Different k Values**\n",
    "   - Run k-NN with k values of 3, 5, 7, and 9.\n",
    "   - For each k, analyze the precision and recall metrics to understand the trade-offs.\n",
    "\n",
    "3. **Decision Tree Accuracy with Limited Depth**\n",
    "   - Train a Decision Tree classifier with a maximum depth of 5.\n",
    "   - Calculate and report the accuracy using 10-fold cross-validation.\n",
    "\n",
    "4. **AUC for SVM with Specific Hyperparameters**\n",
    "   - Train an SVM classifier with C=0.1 and gamma=0.1.\n",
    "   - Compute the Area Under the Curve (AUC) metric using 10-fold cross-validation.\n",
    "\n",
    "5. **Feature Importance in Logistic Regression**\n",
    "   - Train a Logistic Regression model using the entire dataset.\n",
    "   - Identify the most important feature based on the highest absolute coefficient value.\n",
    "\n",
    "Throughout this notebook, I will provide code, explanations, and analysis for each step, making it easy to follow and reproduce the results."
   ]
  },
  {
   "cell_type": "markdown",
   "id": "1aedfb9f",
   "metadata": {},
   "source": []
  }
 ],
 "metadata": {
  "kernelspec": {
   "display_name": "Python 3",
   "language": "python",
   "name": "python3"
  },
  "language_info": {
   "name": "python",
   "version": "3.13.3"
  }
 },
 "nbformat": 4,
 "nbformat_minor": 5
}
